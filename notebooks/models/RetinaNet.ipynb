{
 "cells": [
  {
   "cell_type": "code",
   "execution_count": null,
   "metadata": {
    "_uuid": "a49ba9da46f6837ad0b11a9f0f465c76b9ee638e",
    "collapsed": true
   },
   "outputs": [],
   "source": [
    "import sys, os\n",
    "import pandas as pd\n",
    "import numpy as np\n",
    "from six import raise_from\n",
    "import pydicom\n",
    "import matplotlib.pyplot as plt\n",
    "\n",
    "import warnings \n",
    "warnings.filterwarnings(\"ignore\")"
   ]
  },
  {
   "cell_type": "code",
   "execution_count": null,
   "metadata": {
    "_kg_hide-output": true,
    "_uuid": "241ffe2b6ef202b73910d78411fbf9dab19e40e3",
    "collapsed": true,
    "scrolled": true
   },
   "outputs": [],
   "source": [
    "!pip install --upgrade git+https://github.com/fizyr/keras-retinanet"
   ]
  },
  {
   "cell_type": "code",
   "execution_count": null,
   "metadata": {
    "_uuid": "143097d1f572cd826157e6f8f8d4f1c3a95937ee",
    "collapsed": true
   },
   "outputs": [],
   "source": [
    "import keras\n",
    "import keras.preprocessing.image\n",
    "from keras.callbacks import ReduceLROnPlateau\n",
    "\n",
    "import keras_retinanet.losses\n",
    "from keras_retinanet.models.resnet import resnet50_retinanet\n",
    "from keras_retinanet.utils.keras_version import check_keras_version\n",
    "from keras_retinanet.preprocessing.generator import Generator"
   ]
  },
  {
   "cell_type": "markdown",
   "metadata": {
    "_uuid": "998f165b4697110cf1d6b9a22b6c1432c57e6bc1"
   },
   "source": [
    "### Create datagen"
   ]
  },
  {
   "cell_type": "code",
   "execution_count": null,
   "metadata": {
    "_uuid": "0eb77722123d37562171a1d5f306592329c052c1",
    "collapsed": true
   },
   "outputs": [],
   "source": [
    "class RSNAGenerator(Generator):\n",
    "    \"\"\"Dataset class for training pneumonia detection on the RSNA pneumonia dataset.\"\"\"\n",
    "    def __init__(self, annotations_df, data_dir, class_mapping, batch_size, image_extension='.dcm', **kwargs):        \n",
    "        self.data_dir = data_dir\n",
    "        self.classes = class_mapping\n",
    "        self.image_extension = image_extension\n",
    "        self.annotations_df = annotations_df\n",
    "        self.labels = {v: k for k, v in self.classes.items()}\n",
    "        self.image_names = list(annotations_df['patientId'].unique())\n",
    "        \n",
    "        for key, value in self.classes.items():\n",
    "            self.labels[value] = key\n",
    "        super(RSNAGenerator, self).__init__(batch_size=batch_size)\n",
    "\n",
    "    def size(self):\n",
    "        \"\"\" Size of the dataset.\"\"\"\n",
    "        return len(self.image_names)\n",
    "\n",
    "    def num_classes(self):\n",
    "        \"\"\" Number of classes in the dataset.\"\"\"\n",
    "        return len(self.classes)\n",
    "\n",
    "    def has_label(self, label):\n",
    "        \"\"\" Return True if label is a known label.\"\"\"\n",
    "        return label in self.labels\n",
    "\n",
    "    def has_name(self, name):\n",
    "        \"\"\" Returns True if name is a known class.\"\"\"\n",
    "        return name in self.classes\n",
    "\n",
    "    def name_to_label(self, name):\n",
    "        \"\"\" Map name to label.\"\"\"\n",
    "        return self.classes[name]\n",
    "\n",
    "    def label_to_name(self, label):\n",
    "        \"\"\" Map label to name.\"\"\"\n",
    "        return self.labels[label]\n",
    "\n",
    "    def image_aspect_ratio(self, image_index):\n",
    "        fp = os.path.join(self.data_dir, \n",
    "            self.image_names[image_index] + self.image_extension)\n",
    "        ds = pydicom.read_file(fp)\n",
    "        image = ds.pixel_array\n",
    "        return float(image.shape[1]) / float(image.shape[0])\n",
    "\n",
    "    def load_image(self, image_index):\n",
    "        fp = os.path.join(self.data_dir, \n",
    "            self.image_names[image_index] + self.image_extension)\n",
    "        ds = pydicom.read_file(fp)\n",
    "        image = ds.pixel_array\n",
    "        # If grayscale. Convert to RGB for consistency.\n",
    "        if len(image.shape) != 3 or image.shape[2] != 3:\n",
    "            image = np.stack((image,) * 3, -1)\n",
    "        return image\n",
    "    \n",
    "    def load_annotations(self, image_index):\n",
    "        patient_id = self.image_names[image_index]\n",
    "        image_annotation = self.annotations_df[self.annotations_df['patientId']==patient_id]\n",
    "        \n",
    "        annotations = {\n",
    "            'labels': np.empty((image_annotation.shape[0]),), \n",
    "            'bboxes': np.empty((image_annotation.shape[0], 4))}\n",
    "        \n",
    "        for idx, (_, element) in enumerate(image_annotation.iterrows()):\n",
    "            annotations['labels'][idx] = int(element['Target'])\n",
    "            annotations['bboxes'][idx, 0] = float(element['x'])\n",
    "            annotations['bboxes'][idx, 1] = float(element['y'])\n",
    "            annotations['bboxes'][idx, 2] = float(element['x'] + element['width'])\n",
    "            annotations['bboxes'][idx, 3] = float(element['y'] + element['height'])\n",
    "        return annotations"
   ]
  },
  {
   "cell_type": "markdown",
   "metadata": {
    "_uuid": "a2fdbeb7c76d6b634c87900d1b8a408d29736774"
   },
   "source": [
    "### Create model"
   ]
  },
  {
   "cell_type": "code",
   "execution_count": null,
   "metadata": {
    "_uuid": "b57d2e02c3620e18e5e76b01bc43ebaea3fc8abc",
    "collapsed": true
   },
   "outputs": [],
   "source": [
    "def load_retinanet(weights, num_classes, freeze=True):\n",
    "    modifier = freeze if freeze else None\n",
    "    model = resnet50_retinanet(num_classes=num_classes, modifier=modifier)\n",
    "    model.load_weights(weights, by_name=True, skip_mismatch=True)\n",
    "    return model\n",
    "  \n",
    "def model_compile(model, lr, clipnorm=1e-5):\n",
    "    model.compile(\n",
    "        loss={'regression'    : keras_retinanet.losses.smooth_l1(),\n",
    "              'classification': keras_retinanet.losses.focal()},\n",
    "        optimizer=keras.optimizers.adam(lr, clipnorm))\n",
    "    return model"
   ]
  },
  {
   "cell_type": "markdown",
   "metadata": {
    "_uuid": "dab664cda1452af3b40c869e4f75bffbb8a30327"
   },
   "source": [
    "### Training"
   ]
  },
  {
   "cell_type": "code",
   "execution_count": null,
   "metadata": {
    "_uuid": "bda7fb144335c0e8bf2e113a457369b262296de8",
    "collapsed": true
   },
   "outputs": [],
   "source": [
    "%%time\n",
    "datagen = RSNAGenerator(\n",
    "    pd.read_csv('../stage_2_train_labels.csv'),\n",
    "    '../stage_2_train_images/',\n",
    "    {0:0, 1:1}, \n",
    "    batch_size=4)"
   ]
  },
  {
   "cell_type": "code",
   "execution_count": null,
   "metadata": {
    "_kg_hide-output": true,
    "_uuid": "4c6f22bf9dbbe2c4c0b42895a2075338a29103a6",
    "collapsed": true
   },
   "outputs": [],
   "source": [
    "!wget https://github.com/fizyr/keras-retinanet/releases/download/0.5.0/resnet50_coco_best_v2.1.0.h5\n",
    "path_to_weights = '../resnet50_coco_best_v2.1.0.h5'"
   ]
  },
  {
   "cell_type": "code",
   "execution_count": null,
   "metadata": {
    "_uuid": "21ce50d8b77a2800fa04474a815a22addc03d3b7",
    "collapsed": true
   },
   "outputs": [],
   "source": [
    "keras.backend.clear_session()\n",
    "model = load_retinanet(path_to_weights, 2, freeze=False)\n",
    "model = model_compile(model, lr=1e-5)"
   ]
  },
  {
   "cell_type": "code",
   "execution_count": null,
   "metadata": {
    "_uuid": "daf6fcfc36b0f372db0a408d19741cf47e0fb263",
    "collapsed": true
   },
   "outputs": [],
   "source": [
    "history = model.fit_generator(\n",
    "    datagen,\n",
    "    steps_per_epoch=100,\n",
    "    validation_data=datagen,\n",
    "    validation_steps=10,\n",
    "    callbacks=None,\n",
    "    epochs=25,\n",
    "    verbose=1)"
   ]
  },
  {
   "cell_type": "code",
   "execution_count": null,
   "metadata": {
    "_uuid": "f21c57c453f848693b41ba94efc32173051ce354",
    "collapsed": true
   },
   "outputs": [],
   "source": [
    "plt.figure(figsize=(17,5))\n",
    "plt.subplot(131)\n",
    "plt.plot(history.history[\"loss\"], label=\"Train loss\")\n",
    "plt.plot(history.history[\"val_loss\"], label=\"Valid loss\")\n",
    "plt.legend()\n",
    "plt.subplot(132)\n",
    "plt.plot(history.history[\"regression_loss\"], label=\"regression loss\")\n",
    "plt.plot(history.history[\"val_regression_loss\"], label=\"val regression loss\")\n",
    "plt.legend()\n",
    "plt.subplot(133)\n",
    "plt.plot(history.history[\"classification_loss\"], label=\"classification loss\")\n",
    "plt.plot(history.history[\"val_classification_loss\"], label=\"val classification loss\")\n",
    "plt.legend()\n",
    "plt.show()"
   ]
  }
 ],
 "metadata": {
  "kernelspec": {
   "display_name": "Python 3",
   "language": "python",
   "name": "python3"
  },
  "language_info": {
   "codemirror_mode": {
    "name": "ipython",
    "version": 3
   },
   "file_extension": ".py",
   "mimetype": "text/x-python",
   "name": "python",
   "nbconvert_exporter": "python",
   "pygments_lexer": "ipython3",
   "version": "3.6.3"
  }
 },
 "nbformat": 4,
 "nbformat_minor": 1
}
